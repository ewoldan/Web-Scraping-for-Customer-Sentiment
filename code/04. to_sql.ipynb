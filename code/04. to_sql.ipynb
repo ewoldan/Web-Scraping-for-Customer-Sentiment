{
 "cells": [
  {
   "cell_type": "code",
   "execution_count": 1,
   "id": "f9d46cdc",
   "metadata": {},
   "outputs": [],
   "source": [
    "#! pip install sqlalchemy\n",
    "#! pip install PyMySQL"
   ]
  },
  {
   "cell_type": "code",
   "execution_count": 2,
   "id": "06bf60ff",
   "metadata": {},
   "outputs": [
    {
     "name": "stdout",
     "output_type": "stream",
     "text": [
      "········\n"
     ]
    }
   ],
   "source": [
    "import pymysql\n",
    "from sqlalchemy import create_engine, text\n",
    "import pandas as pd\n",
    "import getpass\n",
    "password = getpass.getpass()"
   ]
  },
  {
   "cell_type": "code",
   "execution_count": 3,
   "id": "60af6fcb",
   "metadata": {},
   "outputs": [],
   "source": [
    "connection_string = f'mysql+pymysql://root:' + password + '@127.0.0.1:3306/bank'\n",
    "engine = create_engine(connection_string)"
   ]
  },
  {
   "cell_type": "code",
   "execution_count": 4,
   "id": "2dcf1925",
   "metadata": {},
   "outputs": [
    {
     "name": "stdout",
     "output_type": "stream",
     "text": [
      "2025-03-19 14:15:34,338 INFO sqlalchemy.engine.Engine SELECT DATABASE()\n",
      "2025-03-19 14:15:34,339 INFO sqlalchemy.engine.Engine [raw sql] {}\n",
      "2025-03-19 14:15:34,340 INFO sqlalchemy.engine.Engine SELECT @@sql_mode\n",
      "2025-03-19 14:15:34,340 INFO sqlalchemy.engine.Engine [raw sql] {}\n",
      "2025-03-19 14:15:34,341 INFO sqlalchemy.engine.Engine SELECT @@lower_case_table_names\n",
      "2025-03-19 14:15:34,342 INFO sqlalchemy.engine.Engine [raw sql] {}\n",
      "✅ Successfully connected to MySQL!\n"
     ]
    }
   ],
   "source": [
    "try:\n",
    "    engine = create_engine(connection_string, echo=True)\n",
    "    with engine.connect() as connection:\n",
    "        print(\"✅ Successfully connected to MySQL!\")\n",
    "except Exception as e:\n",
    "    print(\"❌ Connection failed:\", e)"
   ]
  },
  {
   "cell_type": "code",
   "execution_count": 5,
   "id": "b530c9ed",
   "metadata": {},
   "outputs": [
    {
     "name": "stdout",
     "output_type": "stream",
     "text": [
      "2025-03-19 14:15:34,350 INFO sqlalchemy.engine.Engine CREATE DATABASE IF NOT EXISTS SkytraxReviews\n",
      "2025-03-19 14:15:34,351 INFO sqlalchemy.engine.Engine [raw sql] {}\n",
      "2025-03-19 14:15:34,354 INFO sqlalchemy.engine.Engine COMMIT\n"
     ]
    }
   ],
   "source": [
    "skytrax_db = engine.execute(\"CREATE DATABASE IF NOT EXISTS SkytraxReviews\")"
   ]
  },
  {
   "cell_type": "code",
   "execution_count": 6,
   "id": "29235bd7",
   "metadata": {},
   "outputs": [
    {
     "name": "stdout",
     "output_type": "stream",
     "text": [
      "2025-03-19 14:15:34,359 INFO sqlalchemy.engine.Engine USE SkytraxReviews;\n",
      "2025-03-19 14:15:34,360 INFO sqlalchemy.engine.Engine [generated in 0.00091s] {}\n",
      "2025-03-19 14:15:34,362 INFO sqlalchemy.engine.Engine SHOW TABLES;\n",
      "2025-03-19 14:15:34,362 INFO sqlalchemy.engine.Engine [generated in 0.00049s] {}\n",
      "[]\n"
     ]
    }
   ],
   "source": [
    "with engine.connect() as conn:\n",
    "    conn.execute(text(\"USE SkytraxReviews;\"))  \n",
    "    result = conn.execute(text(\"SHOW TABLES;\"))\n",
    "    print(result.fetchall())"
   ]
  },
  {
   "cell_type": "code",
   "execution_count": 7,
   "id": "b82abecc",
   "metadata": {},
   "outputs": [],
   "source": [
    "query = '''\n",
    "        CREATE TABLE IF NOT EXISTS reviews (\n",
    "            id INT AUTO_INCREMENT PRIMARY KEY,\n",
    "            date_published DATE,\n",
    "            aircraft VARCHAR(255),\n",
    "            type_of_traveller VARCHAR(100),\n",
    "            seat_type VARCHAR(50),\n",
    "            route VARCHAR(255),\n",
    "            date_flown DATE NULL,\n",
    "            seat_comfort_ranking INT NULL,\n",
    "            cabin_staff_service_ranking INT NULL,\n",
    "            food_beverages_ranking INT NULL,\n",
    "            ground_services_ranking INT NULL,\n",
    "            value_for_money INT,\n",
    "            recommended VARCHAR(10),\n",
    "            verification_status VARCHAR(50),\n",
    "            review_text_clean TEXT,\n",
    "            flight_type VARCHAR(50),\n",
    "            departure VARCHAR(100),\n",
    "            destination VARCHAR(100),\n",
    "            layover VARCHAR(100) NULL,\n",
    "            sentiment_score FLOAT,\n",
    "            sentiment VARCHAR(10),\n",
    "            keywords TEXT\n",
    "    );\n",
    "        '''\n"
   ]
  },
  {
   "cell_type": "code",
   "execution_count": 8,
   "id": "57455895",
   "metadata": {},
   "outputs": [
    {
     "name": "stdout",
     "output_type": "stream",
     "text": [
      "2025-03-19 14:15:34,376 INFO sqlalchemy.engine.Engine \n",
      "        CREATE TABLE IF NOT EXISTS reviews (\n",
      "            id INT AUTO_INCREMENT PRIMARY KEY,\n",
      "            date_published DATE,\n",
      "            aircraft VARCHAR(255),\n",
      "            type_of_traveller VARCHAR(100),\n",
      "            seat_type VARCHAR(50),\n",
      "            route VARCHAR(255),\n",
      "            date_flown DATE NULL,\n",
      "            seat_comfort_ranking INT NULL,\n",
      "            cabin_staff_service_ranking INT NULL,\n",
      "            food_beverages_ranking INT NULL,\n",
      "            ground_services_ranking INT NULL,\n",
      "            value_for_money INT,\n",
      "            recommended VARCHAR(10),\n",
      "            verification_status VARCHAR(50),\n",
      "            review_text_clean TEXT,\n",
      "            flight_type VARCHAR(50),\n",
      "            departure VARCHAR(100),\n",
      "            destination VARCHAR(100),\n",
      "            layover VARCHAR(100) NULL,\n",
      "            sentiment_score FLOAT,\n",
      "            sentiment VARCHAR(10),\n",
      "            keywords TEXT\n",
      "    );\n",
      "        \n",
      "2025-03-19 14:15:34,377 INFO sqlalchemy.engine.Engine [raw sql] {}\n",
      "2025-03-19 14:15:34,407 INFO sqlalchemy.engine.Engine COMMIT\n",
      "Table created\n"
     ]
    }
   ],
   "source": [
    "with engine.connect() as connection:\n",
    "    connection.execute(query)\n",
    "    print(\"Table created\")"
   ]
  },
  {
   "cell_type": "markdown",
   "id": "a300aac6",
   "metadata": {},
   "source": [
    "### Note\n",
    "\n",
    "This script checks whether the reviews table exists in the database. If it doesn't, it performs a first-time insert of all data from a CSV file. If the table already exists, it fetches existing records (using date_published and route as identifiers) and compares them with the new CSV data. Only new records are inserted into the database, preventing duplicates."
   ]
  },
  {
   "cell_type": "code",
   "execution_count": 9,
   "id": "2db34dc6",
   "metadata": {},
   "outputs": [],
   "source": [
    "df = pd.read_csv(\"skytrax-data-with-sentiment.csv\")"
   ]
  },
  {
   "cell_type": "code",
   "execution_count": 10,
   "id": "9c581e25",
   "metadata": {},
   "outputs": [
    {
     "name": "stdout",
     "output_type": "stream",
     "text": [
      "2025-03-19 14:15:34,493 INFO sqlalchemy.engine.Engine SELECT COUNT(*) FROM information_schema.tables WHERE table_schema = 'SkytraxReviews' AND table_name = 'reviews'\n",
      "2025-03-19 14:15:34,494 INFO sqlalchemy.engine.Engine [raw sql] {}\n",
      "2025-03-19 14:15:34,497 INFO sqlalchemy.engine.Engine SELECT COUNT(*) FROM information_schema.tables WHERE table_schema = %(table_schema)s AND table_name = %(table_name)s\n",
      "2025-03-19 14:15:34,497 INFO sqlalchemy.engine.Engine [generated in 0.00037s] {'table_schema': 'bank', 'table_name': 'SELECT date_published, route FROM reviews'}\n",
      "2025-03-19 14:15:34,499 INFO sqlalchemy.engine.Engine SELECT date_published, route FROM reviews\n",
      "2025-03-19 14:15:34,499 INFO sqlalchemy.engine.Engine [raw sql] {}\n",
      "2025-03-19 14:15:34,516 INFO sqlalchemy.engine.Engine SELECT COUNT(*) FROM information_schema.tables WHERE table_schema = %(table_schema)s AND table_name = %(table_name)s\n",
      "2025-03-19 14:15:34,517 INFO sqlalchemy.engine.Engine [cached since 0.01978s ago] {'table_schema': 'bank', 'table_name': 'reviews'}\n",
      "2025-03-19 14:15:34,522 INFO sqlalchemy.engine.Engine BEGIN (implicit)\n",
      "2025-03-19 14:15:34,594 INFO sqlalchemy.engine.Engine INSERT INTO reviews (date_published, aircraft, type_of_traveller, seat_type, route, date_flown, seat_comfort_ranking, cabin_staff_service_ranking, food_beverages_ranking, ground_services_ranking, value_for_money, recommended, verification_status, review_text_clean, flight_type, departure, destination, layover, sentiment_score, sentiment, keywords) VALUES (%(date_published)s, %(aircraft)s, %(type_of_traveller)s, %(seat_type)s, %(route)s, %(date_flown)s, %(seat_comfort_ranking)s, %(cabin_staff_service_ranking)s, %(food_beverages_ranking)s, %(ground_services_ranking)s, %(value_for_money)s, %(recommended)s, %(verification_status)s, %(review_text_clean)s, %(flight_type)s, %(departure)s, %(destination)s, %(layover)s, %(sentiment_score)s, %(sentiment)s, %(keywords)s)\n",
      "2025-03-19 14:15:34,594 INFO sqlalchemy.engine.Engine [generated in 0.03468s] ({'date_published': '2025-03-19', 'aircraft': 'Boeing 787', 'type_of_traveller': 'Solo Leisure', 'seat_type': 'Business Class', 'route': 'Cape Town to London', 'date_flown': '2025-03-01', 'seat_comfort_ranking': 5.0, 'cabin_staff_service_ranking': 2.0, 'food_beverages_ranking': 5.0, 'ground_services_ranking': 4.0, 'value_for_money': 4, 'recommended': 'yes', 'verification_status': 'Trip Verified', 'review_text_clean': 'Flight mainly let down by a disagreeable flight attendant. No queue to check in at Cape Town - good. However checkin agent was unfamiliar with BA siz ... (1113 characters truncated) ... espite being at a remote stand, requiring a bus. The luggage took quite a while to arrive. Overall 7/10. Would be 9/10 but for the rude staff member.', 'flight_type': 'direct', 'departure': 'Cape Town', 'destination': 'London', 'layover': None, 'sentiment_score': -0.4852, 'sentiment': 'Negative', 'keywords': 'quite, member, sleep, rules, wait, concerned, ask, made, hospitality, zip, kit, queues, came, remote, worked, offered, hand, fine, weight, let, howev ... (591 characters truncated) ... familiar, bags, amenity, said, despite, food, managed, attendant, sports, broke, premium, staff, nuts, would, checkin, restaurants, even, check, seat'}, {'date_published': '2025-03-16', 'aircraft': 'Not informed', 'type_of_traveller': 'Business', 'seat_type': 'Business Class', 'route': 'London to Geneva', 'date_flown': '2024-12-01', 'seat_comfort_ranking': 1.0, 'cabin_staff_service_ranking': 1.0, 'food_beverages_ranking': None, 'ground_services_ranking': 1.0, 'value_for_money': 1, 'recommended': 'no', 'verification_status': 'Trip Verified', 'review_text_clean': 'Another awful experience by British Airways. This flight was delayed nearly 1 hour. British Airways charges an extortionate amount for their tickets but the service is bad for me.', 'flight_type': 'direct', 'departure': 'London', 'destination': 'Geneva', 'layover': None, 'sentiment_score': -0.8294, 'sentiment': 'Negative', 'keywords': 'british, another, flight, awful, nearly, hour, charges, delayed, tickets, service, bad, extortionate, experience, amount, airways'}, {'date_published': '2025-03-16', 'aircraft': 'Not informed', 'type_of_traveller': 'Business', 'seat_type': 'Premium Economy', 'route': 'London to New York', 'date_flown': '2025-01-01', 'seat_comfort_ranking': 1.0, 'cabin_staff_service_ranking': 1.0, 'food_beverages_ranking': 1.0, 'ground_services_ranking': 5.0, 'value_for_money': 1, 'recommended': 'no', 'verification_status': 'Trip Verified', 'review_text_clean': 'The service was rude, full of attitude to me, the food is poorly serviced, the cabin during the flight was never cleaned in particularly the toilets.', 'flight_type': 'direct', 'departure': 'London', 'destination': 'New York', 'layover': None, 'sentiment_score': -0.4588, 'sentiment': 'Negative', 'keywords': 'cabin, attitude, serviced, particularly, cleaned, poorly, food, flight, service, full, rude, never, toilets'}, {'date_published': '2025-03-16', 'aircraft': 'Not informed', 'type_of_traveller': 'Business', 'seat_type': 'Business Class', 'route': 'Chambery to London', 'date_flown': '2025-01-01', 'seat_comfort_ranking': 1.0, 'cabin_staff_service_ranking': 1.0, 'food_beverages_ranking': 2.0, 'ground_services_ranking': 1.0, 'value_for_money': 1, 'recommended': 'no', 'verification_status': 'Trip Verified', 'review_text_clean': 'This flight was a joke. There was four people in business class including myself and my companion. The service was outrageous. The crew was too busy flirting with the captain and where she was going for the day off, instead of paying attention in the cabin.', 'flight_type': 'direct', 'departure': 'Chambery', 'destination': 'London', 'layover': None, 'sentiment_score': 0.0, 'sentiment': 'Neutral', 'keywords': 'attention, class, going, paying, cabin, flight, business, service, crew, four, flirting, outrageous, day, busy, instead, including, companion, people, captain, joke'}, {'date_published': '2025-03-07', 'aircraft': 'Boeing 777', 'type_of_traveller': 'Business', 'seat_type': 'Premium Economy', 'route': 'Gatwick to Antigua', 'date_flown': '2025-03-01', 'seat_comfort_ranking': 5.0, 'cabin_staff_service_ranking': 5.0, 'food_beverages_ranking': 4.0, 'ground_services_ranking': 5.0, 'value_for_money': 5, 'recommended': 'yes', 'verification_status': 'Trip Verified', 'review_text_clean': 'This time British Airways managed to get everything right. The price of the tickets was reasonable and the timing was perfect. Boarding was smooth an ... (321 characters truncated) ... nd they were both extremely efficient, pleasant and witty. There was a good selection of movies and both the screen and the headset worked perfectly.', 'flight_type': 'direct', 'departure': 'Gatwick', 'destination': 'Antigua', 'layover': None, 'sentiment_score': 0.9831, 'sentiment': 'Positive', 'keywords': 'soft, boarding, screen, timing, good, witty, price, enough, table, tickets, cabin, sufficient, pre, flight, best, comfortable, laptop, efficient, smo ... (129 characters truncated) ... ed, headset, offered, right, drink, part, perfectly, two, british, pleasant, movies, mouse, firm, reline, pe, reasonable, use, prosecco, small, allow'}, {'date_published': '2025-02-28', 'aircraft': 'Not informed', 'type_of_traveller': 'Couple Leisure', 'seat_type': 'Premium Economy', 'route': 'Mumbai to London', 'date_flown': '2025-02-01', 'seat_comfort_ranking': 5.0, 'cabin_staff_service_ranking': 4.0, 'food_beverages_ranking': 3.0, 'ground_services_ranking': 4.0, 'value_for_money': 5, 'recommended': 'yes', 'verification_status': 'Trip Verified', 'review_text_clean': 'The seats were excellent, with a feel of much more room than the official seat pitch (I am 6ft 1in). We could sleep for a couple of hours (daytime fl ... (88 characters truncated) ... ). I focus on seat quality much more than smiley faces and food (the food was middling, and the second meal, before landing, was distinctly sub-par).', 'flight_type': 'direct', 'departure': 'Mumbai', 'destination': 'London', 'layover': None, 'sentiment_score': 0.7703, 'sentiment': 'Positive', 'keywords': 'couple, point, meal, daytime, smiley, sleep, par, second, much, room, view, booking, blinds, flight, ft, sub, distinctly, window, seats, pitch, food, could, quality, hours, feel, landing, official, faces, excellent, focus, middling, seat'}, {'date_published': '2025-02-27', 'aircraft': 'A350', 'type_of_traveller': 'Couple Leisure', 'seat_type': 'Business Class', 'route': 'Nairobi to London', 'date_flown': '2025-02-01', 'seat_comfort_ranking': 4.0, 'cabin_staff_service_ranking': 1.0, 'food_beverages_ranking': 2.0, 'ground_services_ranking': 4.0, 'value_for_money': 3, 'recommended': 'no', 'verification_status': 'Trip Verified', 'review_text_clean': 'After the nightmare of getting through triple security at Nairobi Airport, I was looking forward to a glass of something lovely to unwind on the plan ... (429 characters truncated) ...  to this we received an email within 30 minutes of check in with a healthy portion of Avios already added to our account. Well done customer service.', 'flight_type': 'direct', 'departure': 'Nairobi', 'destination': 'London', 'layover': None, 'sentiment_score': 0.9428, 'sentiment': 'Positive', 'keywords': 'point, unwind, healthy, trip, meal, reading, done, finally, awful, going, served, airport, looking, forward, together, keep, great, suites, plane, im ... (217 characters truncated) ... ff, effort, security, drink, wife, well, within, prior, nairobi, lovely, something, avios, hour, email, added, received, told, club, check, seat, fat'}, {'date_published': '2025-02-21', 'aircraft': 'A320', 'type_of_traveller': 'Solo Leisure', 'seat_type': 'Economy Class', 'route': 'London Gatwick to Marrakech', 'date_flown': '2025-02-01', 'seat_comfort_ranking': 4.0, 'cabin_staff_service_ranking': 1.0, 'food_beverages_ranking': None, 'ground_services_ranking': 2.0, 'value_for_money': 2, 'recommended': 'no', 'verification_status': 'Trip Verified', 'review_text_clean': 'Prior to boarding a gate agent seemed to pick on elderly people and asked them to check in relatively small bags. By contrast the same staff member l ... (1053 characters truncated) ... ion was not well managed either. This route is very competitive and these days one has a lot of choice. I will not use British Airways on this route.', 'flight_type': 'direct', 'departure': 'London Gatwick', 'destination': 'Marrakech', 'layover': None, 'sentiment_score': -0.9026, 'sentiment': 'Negative', 'keywords': 'packet, member, offering, made, biscuits, pick, days, london, claimed, cups, competitive, concern, offered, curtain, rather, small, struggling, looke ... (529 characters truncated) ... s, bags, drew, man, brief, managed, staff, contrast, lavatories, economy, passengers, miserly, gatwick, plastic, people, even, tiny, door, check, add'}  ... displaying 10 of 3920 total bound parameter sets ...  {'date_published': '2012-08-29', 'aircraft': 'Not informed', 'type_of_traveller': 'Not informed', 'seat_type': 'Business Class', 'route': 'Not informed', 'date_flown': None, 'seat_comfort_ranking': 4.0, 'cabin_staff_service_ranking': 3.0, 'food_beverages_ranking': 2.0, 'ground_services_ranking': None, 'value_for_money': 3, 'recommended': 'yes', 'verification_status': 'Not informed', 'review_text_clean': 'Flew return in CW from LHR to BKK in August 2012. The positives of both flights were: they were on time seats were comfortable and lounges were good. ... (307 characters truncated) ... was unreliable - on both flights the IFE had to be re-set at least once. Overall the flights were fine and I will use BA again if the price is right.', 'flight_type': 'direct', 'departure': 'Not informed', 'destination': None, 'layover': None, 'sentiment_score': 0.4417, 'sentiment': 'Positive', 'keywords': 'side, negatives, set, good, board, least, cw, price, august, overall, unreliable, cabin, uninspiring, crews, jobs, mixed, flight, selections, got, ne ... (82 characters truncated) ... ood, depending, bkk, right, fine, inconvenience, totally, return, lounges, passengers, lhr, poor, aircraft, severe, use, positives, different, cooked'}, {'date_published': '2012-08-29', 'aircraft': 'Not informed', 'type_of_traveller': 'Not informed', 'seat_type': 'Economy Class', 'route': 'Not informed', 'date_flown': None, 'seat_comfort_ranking': 5.0, 'cabin_staff_service_ranking': 5.0, 'food_beverages_ranking': 5.0, 'ground_services_ranking': None, 'value_for_money': 4, 'recommended': 'yes', 'verification_status': 'Not informed', 'review_text_clean': 'Flew LHR - VIE return operated by bmi but BA aircraft. A319 aircraft was clearly new and very clean. The crew were smiling friendly and helpful. No i ... (158 characters truncated) ...  flown British Airways on this route many times now and they have never had a flaw in decent service and staff whether on the ground or in the skies.', 'flight_type': 'direct', 'departure': 'Not informed', 'destination': None, 'layover': None, 'sentiment_score': 0.9741, 'sentiment': 'Positive', 'keywords': 'haul, smiling, operated, short, helpful, served, problem, available, lunch, vie, many, flight, new, sub, flew, delicious, times, service, crew, wheth ... (40 characters truncated) ... inment, ground, roll, ham, mustard, clearly, flown, staff, return, british, route, lhr, unlimited, drinks, aircraft, decent, clean, skies, never, bmi'})\n"
     ]
    },
    {
     "name": "stdout",
     "output_type": "stream",
     "text": [
      "2025-03-19 14:15:34,965 INFO sqlalchemy.engine.Engine COMMIT\n",
      "New data inserted\n"
     ]
    }
   ],
   "source": [
    "table_exists = engine.execute(\n",
    "    \"SELECT COUNT(*) FROM information_schema.tables WHERE table_schema = 'SkytraxReviews' AND table_name = 'reviews'\"\n",
    ").fetchone()[0]\n",
    "\n",
    "\n",
    "if table_exists == 0:\n",
    "    df.to_sql(\"reviews\", con=engine, if_exists=\"append\", index=False)\n",
    "    print(\"First-time insert completed\")\n",
    "else:\n",
    "    existing_data = pd.read_sql(\"SELECT date_published, route FROM reviews\", con=engine)\n",
    "\n",
    "    df_new = df.merge(existing_data, on=[\"date_published\", \"route\"], how=\"left\", indicator=True)\n",
    "    df_new = df_new[df_new[\"_merge\"] == \"left_only\"].drop(columns=[\"_merge\"])\n",
    "\n",
    "\n",
    "    if not df_new.empty:\n",
    "        df_new.to_sql(\"reviews\", con=engine, if_exists=\"append\", index=False)\n",
    "        print(\"New data inserted\")\n",
    "    else:\n",
    "        print(\"No new data found, nothing inserted\")"
   ]
  },
  {
   "cell_type": "code",
   "execution_count": null,
   "id": "b37ae8ae",
   "metadata": {},
   "outputs": [],
   "source": []
  }
 ],
 "metadata": {
  "kernelspec": {
   "display_name": "Python 3 (ipykernel)",
   "language": "python",
   "name": "python3"
  },
  "language_info": {
   "codemirror_mode": {
    "name": "ipython",
    "version": 3
   },
   "file_extension": ".py",
   "mimetype": "text/x-python",
   "name": "python",
   "nbconvert_exporter": "python",
   "pygments_lexer": "ipython3",
   "version": "3.9.12"
  }
 },
 "nbformat": 4,
 "nbformat_minor": 5
}
